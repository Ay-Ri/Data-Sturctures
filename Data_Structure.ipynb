{
  "nbformat": 4,
  "nbformat_minor": 0,
  "metadata": {
    "colab": {
      "provenance": []
    },
    "kernelspec": {
      "name": "python3",
      "display_name": "Python 3"
    },
    "language_info": {
      "name": "python"
    }
  },
  "cells": [
    {
      "cell_type": "markdown",
      "source": [
        "1. What are data structures, and why are they important ?\n",
        "\n",
        "Ans: Data structures are ways of organizing and storing data in a computer so that it can be accessed and modified efficiently.\n",
        "                                      They are important because\n",
        "a. Efficiency\n",
        "b. Scalability\n",
        "c. Problem solving\n",
        "d. Memory management                                      "
      ],
      "metadata": {
        "id": "ahjFF20fYZdd"
      }
    },
    {
      "cell_type": "markdown",
      "source": [
        "2.  Explain the difference between mutable and immutable data types with examples?\n",
        "\n",
        "Ans: Mutable data types can be modified after they are created, while immutable data types cannot. Mutable objects, like lists and dictionaries, allow changes to their contents.\n",
        "    my_list = [1, 2, 3]\n",
        "    my_list.append(4)  # Modifies the list in place\n",
        "    print(my_list)  # Output: [1, 2, 3, 4]\n",
        "\n",
        "                                Immutable data types can not be modified after they are created. Immutable datatypes such as tuples, strings does not allow changes to their contents once created.\n",
        "\n",
        "    my_string = \"Hello\"\n",
        "    try:\n",
        "        my_string[0] = 'J'  # Attempt to modify the string\n",
        "    except TypeError:\n",
        "        print(\"Strings are immutable\")  "
      ],
      "metadata": {
        "id": "PirgA65tZfW1"
      }
    },
    {
      "cell_type": "markdown",
      "source": [
        "3. What are the main differences between lists and tuples in Python ?\n",
        "\n",
        "Ans: a. List are mutable but tuples are immutable.\n",
        "\n",
        "     b. We use [] for list and () for tuples.\n",
        "\n",
        "     c. List are more flexible but tuples are less flexible.\n",
        "     \n",
        "     d. We use list when data needs to be changed but we use tuple when data should stay constant."
      ],
      "metadata": {
        "id": "v8UaaNqLcgje"
      }
    },
    {
      "cell_type": "markdown",
      "source": [
        "4. Describe how dictionaries store data ?\n",
        "\n",
        "Ans: Dictionaries are unordered collections of data and are represented with curly brackets { } . Like lists, dictionaries are mutable(changeable) and indexed. With dictionaries, data is stored in a key:value format."
      ],
      "metadata": {
        "id": "R9yQ9YQndfKO"
      }
    },
    {
      "cell_type": "markdown",
      "source": [
        "5. Why might you use a set instead of a list in Python ?\n",
        "\n",
        "Ans: A set in Python is an unordered collection of unique elements, while a list is an ordered collection that allows duplicate elements. There are some reasons listed below :      \n",
        "a. Ensuring uniqueness\n",
        "\n",
        "b. Efficient Membership Testing\n",
        "\n",
        "c. Set operations\n",
        "\n",
        "d. Removing duplicates"
      ],
      "metadata": {
        "id": "nv3DZYxOeLtY"
      }
    },
    {
      "cell_type": "markdown",
      "source": [
        "6. What is a string in Python, and how is it different from a list ?\n",
        "\n",
        "Ans: A string is a sequence of characters between single or double quotes. A list is a sequence of items, where each item could be anything.Strings are immutable, meaning they cannot be changed once created, while lists are mutable and can be modified as needed."
      ],
      "metadata": {
        "id": "em6In-Q4ey9R"
      }
    },
    {
      "cell_type": "markdown",
      "source": [
        "7.  How do tuples ensure data integrity in Python ?\n",
        "\n",
        "Ans: Tuples ensure data integrity in Python through their immutability. Once a tuple is created, its contents cannot be changed, added, or removed. This characteristic prevents accidental or unauthorized modification of the data, ensuring that the information remains consistent throughout the program's execution. This immutability makes tuples suitable for storing data that should not be altered, such as database connection settings or application configuration parameters."
      ],
      "metadata": {
        "id": "DJq77UcqfQm6"
      }
    },
    {
      "cell_type": "markdown",
      "source": [
        "8. What is a hash table, and how does it relate to dictionaries in Python ?\n",
        "\n",
        "Ans: A hash table is a data structure that stores key-value pairs, implementing an associative array or dictionary. It uses a hash function to compute an index or \"hash\" into an array of buckets or slots, from which the desired value can be looked up. The hash function transforms the key into an integer, which corresponds to a position in the table where the value is stored. This allows for efficient data retrieval, insertion, and deletion operations, often achieving average-case time complexity of O(1).\n",
        "In Python, dictionaries are implemented using hash tables. When a key-value pair is added to a dictionary, Python calculates the hash value of the key using its built-in hash() function. This hash value determines the index where the value will be stored within the dictionary's underlying hash table. When retrieving a value, Python again calculates the hash of the key and uses it to quickly locate the corresponding value."
      ],
      "metadata": {
        "id": "xXeeHwIrfhkc"
      }
    },
    {
      "cell_type": "markdown",
      "source": [
        "9. Can lists contain different data types in Python ?\n",
        "\n",
        "Ans: Yes, lists in Python can contain elements of different data types. Python lists are quite flexible and allow for the storage of a heterogeneous collection of items. This means a single list can hold integers, strings, floats, booleans, and even other lists or data structures, all at the same time.  "
      ],
      "metadata": {
        "id": "BDyZOdBUgAQf"
      }
    },
    {
      "cell_type": "markdown",
      "source": [
        "10.  Explain why strings are immutable in Python ?\n",
        "\n",
        "Ans: Strings in Python are immutable because of design choices that prioritize efficiency, thread safety, and their suitability as dictionary keys. Immutability ensures that once a string is created, its value remains constant throughout its lifetime. Any operation that appears to modify a string actually results in the creation of a new string object.\n",
        "\n",
        "There are several advantages are listed below :      \n",
        "\n",
        "a. Efficiency\n",
        "\n",
        "b. Thread safety\n",
        "\n",
        "c. Dictionary keys"
      ],
      "metadata": {
        "id": "A3-dmAX6gTeB"
      }
    },
    {
      "cell_type": "markdown",
      "source": [
        "11. What advantages do dictionaries offer over lists for certain tasks ?\n",
        "\n",
        "Ans: Dictionaries in Python offer fast data retrieval, Unlike lists where you have to traverse through each element to find a value, dictionaries use hash tables for quick access to values based on keys."
      ],
      "metadata": {
        "id": "c_rGXJArgsr3"
      }
    },
    {
      "cell_type": "markdown",
      "source": [
        "12.  Describe a scenario where using a tuple would be preferable over a list ?\n",
        "\n",
        "Ans: Tuples are immutable. Hence, they are primarily used to store data that doesn't change frequently. Any operation can store data in a tuple when you don't want it to change. Tuples are great to use if you want the data in your collection to be read-only, never to change, and always remain the same and constant."
      ],
      "metadata": {
        "id": "6M9nCFN5g7Es"
      }
    },
    {
      "cell_type": "markdown",
      "source": [
        "13.  How do sets handle duplicate values in Python ?\n",
        "\n",
        "Ans: Sets in Python are designed to store only unique elements. When attempting to add a duplicate value to a set, Python automatically ignores it, ensuring that the set contains only distinct elements. This behavior makes sets a useful tool for tasks such as removing duplicates from a list or checking for the presence of unique items."
      ],
      "metadata": {
        "id": "2TUUSor7hHGR"
      }
    },
    {
      "cell_type": "markdown",
      "source": [
        "14. How does the “in” keyword work differently for lists and dictionaries ?\n",
        "\n",
        "Ans: the in operation for the dictionary tests on keys. The key of the dictionary is a unique value as well as the set, and the execution time is about the same as for sets. On the other hand, dictionary values can be duplicated like a list."
      ],
      "metadata": {
        "id": "HCln9NeNhSRx"
      }
    },
    {
      "cell_type": "markdown",
      "source": [
        "15. Can you modify the elements of a tuple? Explain why or why not ?\n",
        "\n",
        "Ans: No, you cannot directly modify the elements of a tuple in Python. Tuples are immutable data structures, meaning their elements cannot be changed after they are created. Attempting to assign a new value to an element within a tuple will raise a TypeError."
      ],
      "metadata": {
        "id": "wwFXML4bhqro"
      }
    },
    {
      "cell_type": "markdown",
      "source": [
        "16. What is a nested dictionary, and give an example of its use case?\n",
        "\n",
        "Ans: A nested dictionary in Python is a dictionary whose values are themselves dictionaries. This allows for a hierarchical structure, where you can organize data into multiple levels of key-value pairs. A common use case is storing information with a hierarchical structure, like employee records organized by department.\n"
      ],
      "metadata": {
        "id": "2cXTZ5Cqh6gc"
      }
    },
    {
      "cell_type": "markdown",
      "source": [
        "17.  Describe the time complexity of accessing elements in a dictionary ?\n",
        "\n",
        "Ans: The time complexity of accessing an element in a dictionary (also known as a hash table or associative array) is typically O(1), meaning it takes constant time regardless of the dictionary's size. This is because dictionaries use hashing to map keys to their corresponding values, allowing for direct access to the desired value in a single step."
      ],
      "metadata": {
        "id": "9oDYXtzeiKyu"
      }
    },
    {
      "cell_type": "markdown",
      "source": [
        "18. In what situations are lists preferred over dictionaries ?\n",
        "\n",
        "Ans: For quick data look-ups, configurations, or caches, favor dictionaries. For ordered collections and sequence operations, such as maintaining a stack or queue, lists are more suitable."
      ],
      "metadata": {
        "id": "n7PxTuJfiYCA"
      }
    },
    {
      "cell_type": "markdown",
      "source": [
        "19. Why are dictionaries considered unordered, and how does that affect data retrieval ?\n",
        "\n",
        "Ans: A dictionary is termed an unordered collection of objects because dictionaries do not maintain any inherent order of the items based on when they were added. In older versions of Python, dictionaries did not preserve insertion order at all."
      ],
      "metadata": {
        "id": "PuvCjyc-il6b"
      }
    },
    {
      "cell_type": "markdown",
      "source": [
        "20. Explain the difference between a list and a dictionary in terms of data retrieval ?\n",
        "\n",
        "Ans: In terms of data retrieval, a dictionary excels at fast lookups by key, while a list is better suited for sequential access by index. Dictionaries use a hash-based approach, allowing for nearly instantaneous retrieval of a value when the key is known, whereas lists require traversing the list sequentially until the desired element is found."
      ],
      "metadata": {
        "id": "AgeGnTaTi2k4"
      }
    },
    {
      "cell_type": "markdown",
      "source": [
        "# ***PRACTICAL QUESTIONS***"
      ],
      "metadata": {
        "id": "ySJK5YJljO1m"
      }
    },
    {
      "cell_type": "code",
      "source": [
        "# 1. Write a code to create a string with your name and print it.\n",
        "\n",
        "name = \"Ayush\"\n",
        "\n",
        "print(name)\n"
      ],
      "metadata": {
        "colab": {
          "base_uri": "https://localhost:8080/"
        },
        "id": "BadpWqypjFmR",
        "outputId": "dde7f460-bdc1-4127-8438-d1089dae4d57"
      },
      "execution_count": 1,
      "outputs": [
        {
          "output_type": "stream",
          "name": "stdout",
          "text": [
            "Ayush\n"
          ]
        }
      ]
    },
    {
      "cell_type": "code",
      "execution_count": 2,
      "metadata": {
        "colab": {
          "base_uri": "https://localhost:8080/"
        },
        "id": "EZ-SN1VgYX-n",
        "outputId": "bcd8154c-460f-49d0-a1c8-c5bc542303b5"
      },
      "outputs": [
        {
          "output_type": "execute_result",
          "data": {
            "text/plain": [
              "11"
            ]
          },
          "metadata": {},
          "execution_count": 2
        }
      ],
      "source": [
        "# 2. Write a code to find the length of the string \"Hello World\".\n",
        "\n",
        "len(\"Hello World\")"
      ]
    },
    {
      "cell_type": "code",
      "source": [
        "# 3. Write a code to slice the first 3 characters from the string \"Python Programming\".\n",
        "\n",
        "text = \"Python Programming\"\n",
        "sliced = text[:3]\n",
        "print(sliced)"
      ],
      "metadata": {
        "colab": {
          "base_uri": "https://localhost:8080/"
        },
        "id": "dUxzU2zrnlKa",
        "outputId": "d2d746ee-ab38-4482-c5bd-f9fde9a948db"
      },
      "execution_count": 3,
      "outputs": [
        {
          "output_type": "stream",
          "name": "stdout",
          "text": [
            "Pyt\n"
          ]
        }
      ]
    },
    {
      "cell_type": "code",
      "source": [
        "# 4. Write a code to convert the string \"hello\" to uppercase.\n",
        "\n",
        "text = \"hello\"\n",
        "uppercase_text = text.upper()\n",
        "print(uppercase_text)"
      ],
      "metadata": {
        "colab": {
          "base_uri": "https://localhost:8080/"
        },
        "id": "O-txZ7i3pf77",
        "outputId": "cd92b6a2-131b-4f2e-ba53-1216c052f4a3"
      },
      "execution_count": 5,
      "outputs": [
        {
          "output_type": "stream",
          "name": "stdout",
          "text": [
            "HELLO\n"
          ]
        }
      ]
    },
    {
      "cell_type": "code",
      "source": [
        "# 5. Write a code to replace the word \"apple\" with \"orange\" in the string \"I like apple\".\n",
        "\n",
        "text = \"I like apple\"\n",
        "new_text = text.replace(\"apple\", \"orange\")\n",
        "print(new_text)"
      ],
      "metadata": {
        "colab": {
          "base_uri": "https://localhost:8080/"
        },
        "id": "FJcIg7A2pzU4",
        "outputId": "f32d907d-0f29-469a-d3b9-e69fceb1fd52"
      },
      "execution_count": 6,
      "outputs": [
        {
          "output_type": "stream",
          "name": "stdout",
          "text": [
            "I like orange\n"
          ]
        }
      ]
    },
    {
      "cell_type": "code",
      "source": [
        "# 6. Write a code to create a list with numbers 1 to 5 and print it.\n",
        "\n",
        "numbers=[1, 2, 3, 4, 5]\n",
        "print(numbers)"
      ],
      "metadata": {
        "colab": {
          "base_uri": "https://localhost:8080/"
        },
        "id": "Hz5zNB5fqdKH",
        "outputId": "6eedf039-dd7a-45af-8cf1-7eae266edccc"
      },
      "execution_count": 7,
      "outputs": [
        {
          "output_type": "stream",
          "name": "stdout",
          "text": [
            "[1, 2, 3, 4, 5]\n"
          ]
        }
      ]
    },
    {
      "cell_type": "code",
      "source": [
        "# 7. Write a code to append the number 10 to the list [1, 2, 3, 4]\n",
        "\n",
        "numbers = [1, 2, 3, 4]\n",
        "numbers.append(10)\n",
        "print(numbers)"
      ],
      "metadata": {
        "colab": {
          "base_uri": "https://localhost:8080/"
        },
        "id": "9mkoM2y2qspN",
        "outputId": "3f2d572d-9c27-4cdf-af12-ef291550df4e"
      },
      "execution_count": 8,
      "outputs": [
        {
          "output_type": "stream",
          "name": "stdout",
          "text": [
            "[1, 2, 3, 4, 10]\n"
          ]
        }
      ]
    },
    {
      "cell_type": "code",
      "source": [
        "# 8. Write a code to remove the number 3 from the list [1, 2, 3, 4, 5].\n",
        "\n",
        "numbers = [1, 2, 3, 4, 5]\n",
        "numbers.remove(3)\n",
        "print(numbers)"
      ],
      "metadata": {
        "colab": {
          "base_uri": "https://localhost:8080/"
        },
        "id": "ec7XJP9trDMs",
        "outputId": "ddc95cf4-889c-4307-beca-dbb991efc83e"
      },
      "execution_count": 9,
      "outputs": [
        {
          "output_type": "stream",
          "name": "stdout",
          "text": [
            "[1, 2, 4, 5]\n"
          ]
        }
      ]
    },
    {
      "cell_type": "code",
      "source": [
        "# 9. Write a code to access the second element in the list ['a', 'b', 'c', 'd'].\n",
        "\n",
        "letters = ['a', 'b', 'c', 'd']\n",
        "second_element = letters[1]\n",
        "print(second_element)"
      ],
      "metadata": {
        "colab": {
          "base_uri": "https://localhost:8080/"
        },
        "id": "DkrFqTQ0reUp",
        "outputId": "18619ee0-5279-4cd0-9ff9-67bd38f2abea"
      },
      "execution_count": 10,
      "outputs": [
        {
          "output_type": "stream",
          "name": "stdout",
          "text": [
            "b\n"
          ]
        }
      ]
    },
    {
      "cell_type": "code",
      "source": [
        "# 10. Write a code to reverse the list [10, 20, 30, 40, 50].\n",
        "\n",
        "numbers = [10, 20, 30, 40, 50]\n",
        "numbers.reverse()\n",
        "print(numbers)"
      ],
      "metadata": {
        "colab": {
          "base_uri": "https://localhost:8080/"
        },
        "id": "rEKmEe3rr29Q",
        "outputId": "c383b687-4663-4103-bf5e-f24eae1da749"
      },
      "execution_count": 11,
      "outputs": [
        {
          "output_type": "stream",
          "name": "stdout",
          "text": [
            "[50, 40, 30, 20, 10]\n"
          ]
        }
      ]
    },
    {
      "cell_type": "code",
      "source": [
        "# 11.  Write a code to create a tuple with the elements 100, 200, 300 and print it.\n",
        "\n",
        "my_tuple = (100, 200, 300)\n",
        "print(my_tuple)"
      ],
      "metadata": {
        "colab": {
          "base_uri": "https://localhost:8080/"
        },
        "id": "NvLIcHWzsWLb",
        "outputId": "e64db52a-c3b5-4a7b-9e9e-2605805bdc2b"
      },
      "execution_count": 12,
      "outputs": [
        {
          "output_type": "stream",
          "name": "stdout",
          "text": [
            "(100, 200, 300)\n"
          ]
        }
      ]
    },
    {
      "cell_type": "code",
      "source": [
        "# 12. Write a code to access the second-to-last element of the tuple ('red', 'green', 'blue', 'yellow').\n",
        "\n",
        "colors = ('red', 'green', 'blue', 'yellow')\n",
        "second_to_last = colors[-2]\n",
        "print(second_to_last)"
      ],
      "metadata": {
        "colab": {
          "base_uri": "https://localhost:8080/"
        },
        "id": "oZ_2QL4MsrEv",
        "outputId": "508a19ae-bd3e-4f8e-bbd2-4421a75f02f6"
      },
      "execution_count": 13,
      "outputs": [
        {
          "output_type": "stream",
          "name": "stdout",
          "text": [
            "blue\n"
          ]
        }
      ]
    },
    {
      "cell_type": "code",
      "source": [
        "# 13. Write a code to find the minimum number in the tuple (10, 20, 5, 15).\n",
        "\n",
        "numbers = (10, 20, 5, 15)\n",
        "min_number = min(numbers)\n",
        "print(min_number)"
      ],
      "metadata": {
        "colab": {
          "base_uri": "https://localhost:8080/"
        },
        "id": "ZIBUWG0RtGaO",
        "outputId": "06e2193b-2e10-4edc-db35-dbbb81ccbf07"
      },
      "execution_count": 14,
      "outputs": [
        {
          "output_type": "stream",
          "name": "stdout",
          "text": [
            "5\n"
          ]
        }
      ]
    },
    {
      "cell_type": "code",
      "source": [
        "# 14. Write a code to find the index of the element \"cat\" in the tuple ('dog', 'cat', 'rabbit').\n",
        "\n",
        "animals = ('dog', 'cat', 'rabbit')\n",
        "index_of_cat = animals.index('cat')\n",
        "print(index_of_cat)"
      ],
      "metadata": {
        "colab": {
          "base_uri": "https://localhost:8080/"
        },
        "id": "D7_A8v2TtqRT",
        "outputId": "4d125a0c-c322-4173-868d-4045e3cf2a5d"
      },
      "execution_count": 15,
      "outputs": [
        {
          "output_type": "stream",
          "name": "stdout",
          "text": [
            "1\n"
          ]
        }
      ]
    },
    {
      "cell_type": "code",
      "source": [
        "# 15.  Write a code to create a tuple containing three different fruits and check if \"kiwi\" is in it.\n",
        "\n",
        "fruits = ('apple', 'banana', 'orange')\n",
        "is_kiwi_in_tuple = 'kiwi' in fruits\n",
        "print(is_kiwi_in_tuple)"
      ],
      "metadata": {
        "colab": {
          "base_uri": "https://localhost:8080/"
        },
        "id": "cd6CYJVfuSpx",
        "outputId": "d791d09f-e5aa-4062-9730-1ac3222613c1"
      },
      "execution_count": 16,
      "outputs": [
        {
          "output_type": "stream",
          "name": "stdout",
          "text": [
            "False\n"
          ]
        }
      ]
    },
    {
      "cell_type": "code",
      "source": [
        "# 16. Write a code to create a set with the elements 'a', 'b', 'c' and print it.\n",
        "\n",
        "my_set = {'a', 'b', 'c'}\n",
        "print(my_set)"
      ],
      "metadata": {
        "colab": {
          "base_uri": "https://localhost:8080/"
        },
        "id": "y_QZCA7nuoXd",
        "outputId": "a4c67a1c-e214-452b-ed62-0d0ec1219e2b"
      },
      "execution_count": 19,
      "outputs": [
        {
          "output_type": "stream",
          "name": "stdout",
          "text": [
            "{'b', 'a', 'c'}\n"
          ]
        }
      ]
    },
    {
      "cell_type": "code",
      "source": [
        "# 17. Write a code to clear all elements from the set {1, 2, 3, 4, 5}.\n",
        "\n",
        "my_set = {1, 2, 3, 4, 5}\n",
        "my_set.clear()\n",
        "print(my_set)\n"
      ],
      "metadata": {
        "colab": {
          "base_uri": "https://localhost:8080/"
        },
        "id": "1VaLvHCpvAXc",
        "outputId": "3f0a50ea-3d36-495c-f07d-4b5b680bb1ff"
      },
      "execution_count": 20,
      "outputs": [
        {
          "output_type": "stream",
          "name": "stdout",
          "text": [
            "set()\n"
          ]
        }
      ]
    },
    {
      "cell_type": "code",
      "source": [
        "# 18. Write a code to remove the element 4 from the set {1, 2, 3, 4}.\n",
        "\n",
        "my_set = {1, 2, 3, 4}\n",
        "my_set.remove(4)\n",
        "print(my_set)"
      ],
      "metadata": {
        "colab": {
          "base_uri": "https://localhost:8080/"
        },
        "id": "6hBlyAO_vQPu",
        "outputId": "511beba5-925c-4cf6-a789-0781d776617f"
      },
      "execution_count": 21,
      "outputs": [
        {
          "output_type": "stream",
          "name": "stdout",
          "text": [
            "{1, 2, 3}\n"
          ]
        }
      ]
    },
    {
      "cell_type": "code",
      "source": [
        "# 19.  Write a code to find the union of two sets {1, 2, 3} and {3, 4, 5}.\n",
        "\n",
        "set1 = {1, 2, 3}\n",
        "set2 = {3, 4, 5}\n",
        "union_set = set1.union(set2)\n",
        "print(union_set)"
      ],
      "metadata": {
        "colab": {
          "base_uri": "https://localhost:8080/"
        },
        "id": "Hm9FET6vvhFZ",
        "outputId": "9e611725-6525-47bb-d79a-25242f755b2f"
      },
      "execution_count": 22,
      "outputs": [
        {
          "output_type": "stream",
          "name": "stdout",
          "text": [
            "{1, 2, 3, 4, 5}\n"
          ]
        }
      ]
    },
    {
      "cell_type": "code",
      "source": [
        "# 20. Write a code to find the intersection of two sets {1, 2, 3} and {2, 3, 4}.\n",
        "\n",
        "set1 = {1, 2, 3}\n",
        "set2 = {2, 3, 4}\n",
        "intersection_set = set1.intersection(set2)\n",
        "print(intersection_set)\n"
      ],
      "metadata": {
        "colab": {
          "base_uri": "https://localhost:8080/"
        },
        "id": "ZAwh1syPv0eY",
        "outputId": "904c50b9-08c9-45de-f2bf-ff176862c515"
      },
      "execution_count": 23,
      "outputs": [
        {
          "output_type": "stream",
          "name": "stdout",
          "text": [
            "{2, 3}\n"
          ]
        }
      ]
    },
    {
      "cell_type": "code",
      "source": [
        "# 21. Write a code to create a dictionary with the keys \"name\", \"age\", and \"city\", and print it.\n",
        "\n",
        "person = {\n",
        "    \"name\": \"Alice\",\n",
        "    \"age\": 30,\n",
        "    \"city\": \"New York\"\n",
        "}\n",
        "print(person)"
      ],
      "metadata": {
        "colab": {
          "base_uri": "https://localhost:8080/"
        },
        "id": "IV5cjqLbwL4Y",
        "outputId": "85260944-2589-4c93-d21e-9dd2dafbda5b"
      },
      "execution_count": 24,
      "outputs": [
        {
          "output_type": "stream",
          "name": "stdout",
          "text": [
            "{'name': 'Alice', 'age': 30, 'city': 'New York'}\n"
          ]
        }
      ]
    },
    {
      "cell_type": "code",
      "source": [
        "# 22. Write a code to add a new key-value pair \"country\": \"USA\" to the dictionary {'name': 'John', 'age': 25}.\n",
        "\n",
        "person = {'name': 'John', 'age': 25}\n",
        "person['country'] = 'USA'\n",
        "print(person)"
      ],
      "metadata": {
        "colab": {
          "base_uri": "https://localhost:8080/"
        },
        "id": "VAm7yNV4w6p7",
        "outputId": "375bbc16-d50d-4b80-d5cc-e9c649052797"
      },
      "execution_count": 25,
      "outputs": [
        {
          "output_type": "stream",
          "name": "stdout",
          "text": [
            "{'name': 'John', 'age': 25, 'country': 'USA'}\n"
          ]
        }
      ]
    },
    {
      "cell_type": "code",
      "source": [
        "# 23.  Write a code to access the value associated with the key \"name\" in the dictionary {'name': 'Alice', 'age': 30}.\n",
        "\n",
        "person = {'name': 'Alice', 'age': 30}\n",
        "name_value = person['name']\n",
        "print(name_value)"
      ],
      "metadata": {
        "colab": {
          "base_uri": "https://localhost:8080/"
        },
        "id": "hCnD8hsOxLWE",
        "outputId": "d421d7dc-ef58-4c21-923c-d154b5aa6141"
      },
      "execution_count": 26,
      "outputs": [
        {
          "output_type": "stream",
          "name": "stdout",
          "text": [
            "Alice\n"
          ]
        }
      ]
    },
    {
      "cell_type": "code",
      "source": [
        "# 24.  Write a code to remove the key \"age\" from the dictionary {'name': 'Bob', 'age': 22, 'city': 'New York'}.\n",
        "\n",
        "person = {'name': 'Bob', 'age': 22, 'city': 'New York'}\n",
        "person.pop('age')\n",
        "print(person)"
      ],
      "metadata": {
        "colab": {
          "base_uri": "https://localhost:8080/"
        },
        "id": "jFtz3VfKxayr",
        "outputId": "d935fa26-9665-41be-c518-37fcbaa14044"
      },
      "execution_count": 27,
      "outputs": [
        {
          "output_type": "stream",
          "name": "stdout",
          "text": [
            "{'name': 'Bob', 'city': 'New York'}\n"
          ]
        }
      ]
    },
    {
      "cell_type": "code",
      "source": [
        "# 25.  Write a code to check if the key \"city\" exists in the dictionary {'name': 'Alice', 'city': 'Paris'}.\n",
        "\n",
        "person = {'name': 'Alice', 'city': 'Paris'}\n",
        "has_city = 'city' in person\n",
        "print(has_city)"
      ],
      "metadata": {
        "colab": {
          "base_uri": "https://localhost:8080/"
        },
        "id": "OSUZb3syxtgd",
        "outputId": "6b3f3862-9484-4109-d663-80f4b08bbc25"
      },
      "execution_count": 28,
      "outputs": [
        {
          "output_type": "stream",
          "name": "stdout",
          "text": [
            "True\n"
          ]
        }
      ]
    },
    {
      "cell_type": "code",
      "source": [
        "# 26. Write a code to create a list, a tuple, and a dictionary, and print them all.\n",
        "\n",
        "# Creating a list\n",
        "my_list = [1, 2, 3, 4, 5]\n",
        "\n",
        "# Creating a tuple\n",
        "my_tuple = ('apple', 'banana', 'cherry')\n",
        "\n",
        "# Creating a dictionary\n",
        "my_dict = {'name': 'John', 'age': 28, 'city': 'London'}\n",
        "\n",
        "# Printing them\n",
        "print(\"List:\", my_list)\n",
        "print(\"Tuple:\", my_tuple)\n",
        "print(\"Dictionary:\", my_dict)"
      ],
      "metadata": {
        "colab": {
          "base_uri": "https://localhost:8080/"
        },
        "id": "vEAMH1kWx73E",
        "outputId": "d3a3d7aa-d492-438c-abcf-b2f5704e4060"
      },
      "execution_count": 29,
      "outputs": [
        {
          "output_type": "stream",
          "name": "stdout",
          "text": [
            "List: [1, 2, 3, 4, 5]\n",
            "Tuple: ('apple', 'banana', 'cherry')\n",
            "Dictionary: {'name': 'John', 'age': 28, 'city': 'London'}\n"
          ]
        }
      ]
    },
    {
      "cell_type": "code",
      "source": [
        "# 27. Write a code to create a list of 5 random numbers between 1 and 100, sort it in ascending order, and print the result.(replaced)\n",
        "\n",
        "import random\n",
        "\n",
        "random_numbers = [random.randint(1, 100) for _ in range(5)]\n",
        "\n",
        "random_numbers.sort()\n",
        "\n",
        "print(random_numbers)"
      ],
      "metadata": {
        "colab": {
          "base_uri": "https://localhost:8080/"
        },
        "id": "YJi6KQ7oyPyc",
        "outputId": "39ed5961-bea9-4ea3-a713-0e671851bd9b"
      },
      "execution_count": 30,
      "outputs": [
        {
          "output_type": "stream",
          "name": "stdout",
          "text": [
            "[47, 50, 54, 58, 73]\n"
          ]
        }
      ]
    },
    {
      "cell_type": "code",
      "source": [
        "# 28. Write a code to create a list with strings and print the element at the third index\n",
        "\n",
        "words = ['apple', 'banana', 'cherry', 'date', 'elderberry']\n",
        "print(words[3])"
      ],
      "metadata": {
        "colab": {
          "base_uri": "https://localhost:8080/"
        },
        "id": "-UxRZO5pyu17",
        "outputId": "e19fd899-ca66-4470-b8ed-b6f7bbc4a4b8"
      },
      "execution_count": 31,
      "outputs": [
        {
          "output_type": "stream",
          "name": "stdout",
          "text": [
            "date\n"
          ]
        }
      ]
    },
    {
      "cell_type": "code",
      "source": [
        "# 29. Write a code to combine two dictionaries into one and print the result.\n",
        "\n",
        "dict1 = {'a': 1, 'b': 2}\n",
        "dict2 = {'c': 3, 'd': 4}\n",
        "\n",
        "# Combine dictionaries\n",
        "combined_dict = {**dict1, **dict2}\n",
        "\n",
        "print(combined_dict)"
      ],
      "metadata": {
        "colab": {
          "base_uri": "https://localhost:8080/"
        },
        "id": "DwG8CQ-TzE5s",
        "outputId": "44231d96-7f45-46b6-e969-1c0630c9729e"
      },
      "execution_count": 32,
      "outputs": [
        {
          "output_type": "stream",
          "name": "stdout",
          "text": [
            "{'a': 1, 'b': 2, 'c': 3, 'd': 4}\n"
          ]
        }
      ]
    },
    {
      "cell_type": "code",
      "source": [
        "# 30. Write a code to convert a list of strings into a set.\n",
        "\n",
        "string_list = ['apple', 'banana', 'cherry', 'apple']\n",
        "string_set = set(string_list)\n",
        "print(string_set)"
      ],
      "metadata": {
        "colab": {
          "base_uri": "https://localhost:8080/"
        },
        "id": "GKucqNUZzZ5q",
        "outputId": "919fb1c9-b640-4fe5-9569-2c29914d12c0"
      },
      "execution_count": 33,
      "outputs": [
        {
          "output_type": "stream",
          "name": "stdout",
          "text": [
            "{'apple', 'cherry', 'banana'}\n"
          ]
        }
      ]
    }
  ]
}